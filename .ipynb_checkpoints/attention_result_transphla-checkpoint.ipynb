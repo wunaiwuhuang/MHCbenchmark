{
 "cells": [
  {
   "cell_type": "code",
   "execution_count": 1,
   "id": "a1381107-b5b7-48c1-ad85-dd465972591e",
   "metadata": {
    "collapsed": true,
    "execution": {
     "iopub.execute_input": "2024-10-18T13:43:36.620982Z",
     "iopub.status.busy": "2024-10-18T13:43:36.620505Z",
     "iopub.status.idle": "2024-10-18T13:44:36.600116Z",
     "shell.execute_reply": "2024-10-18T13:44:36.599386Z",
     "shell.execute_reply.started": "2024-10-18T13:43:36.620952Z"
    },
    "jupyter": {
     "outputs_hidden": true
    }
   },
   "outputs": [
    {
     "name": "stderr",
     "output_type": "stream",
     "text": [
      "/data1/wuguojia/software/miniconda/envs/shaplime/lib/python3.8/site-packages/shap/utils/_clustering.py:35: NumbaDeprecationWarning: The 'nopython' keyword argument was not supplied to the 'numba.jit' decorator. The implicit default value for this argument is currently False, but it will be changed to True in Numba 0.59.0. See https://numba.readthedocs.io/en/stable/reference/deprecation.html#deprecation-of-object-mode-fall-back-behaviour-when-using-jit for details.\n",
      "  def _pt_shuffle_rec(i, indexes, index_mask, partition_tree, M, pos):\n",
      "/data1/wuguojia/software/miniconda/envs/shaplime/lib/python3.8/site-packages/shap/utils/_clustering.py:54: NumbaDeprecationWarning: The 'nopython' keyword argument was not supplied to the 'numba.jit' decorator. The implicit default value for this argument is currently False, but it will be changed to True in Numba 0.59.0. See https://numba.readthedocs.io/en/stable/reference/deprecation.html#deprecation-of-object-mode-fall-back-behaviour-when-using-jit for details.\n",
      "  def delta_minimization_order(all_masks, max_swap_size=100, num_passes=2):\n",
      "/data1/wuguojia/software/miniconda/envs/shaplime/lib/python3.8/site-packages/shap/utils/_clustering.py:63: NumbaDeprecationWarning: The 'nopython' keyword argument was not supplied to the 'numba.jit' decorator. The implicit default value for this argument is currently False, but it will be changed to True in Numba 0.59.0. See https://numba.readthedocs.io/en/stable/reference/deprecation.html#deprecation-of-object-mode-fall-back-behaviour-when-using-jit for details.\n",
      "  def _reverse_window(order, start, length):\n",
      "/data1/wuguojia/software/miniconda/envs/shaplime/lib/python3.8/site-packages/shap/utils/_clustering.py:69: NumbaDeprecationWarning: The 'nopython' keyword argument was not supplied to the 'numba.jit' decorator. The implicit default value for this argument is currently False, but it will be changed to True in Numba 0.59.0. See https://numba.readthedocs.io/en/stable/reference/deprecation.html#deprecation-of-object-mode-fall-back-behaviour-when-using-jit for details.\n",
      "  def _reverse_window_score_gain(masks, order, start, length):\n",
      "/data1/wuguojia/software/miniconda/envs/shaplime/lib/python3.8/site-packages/shap/utils/_clustering.py:77: NumbaDeprecationWarning: The 'nopython' keyword argument was not supplied to the 'numba.jit' decorator. The implicit default value for this argument is currently False, but it will be changed to True in Numba 0.59.0. See https://numba.readthedocs.io/en/stable/reference/deprecation.html#deprecation-of-object-mode-fall-back-behaviour-when-using-jit for details.\n",
      "  def _mask_delta_score(m1, m2):\n",
      "/data1/wuguojia/software/miniconda/envs/shaplime/lib/python3.8/site-packages/shap/links.py:5: NumbaDeprecationWarning: The 'nopython' keyword argument was not supplied to the 'numba.jit' decorator. The implicit default value for this argument is currently False, but it will be changed to True in Numba 0.59.0. See https://numba.readthedocs.io/en/stable/reference/deprecation.html#deprecation-of-object-mode-fall-back-behaviour-when-using-jit for details.\n",
      "  def identity(x):\n",
      "/data1/wuguojia/software/miniconda/envs/shaplime/lib/python3.8/site-packages/shap/links.py:10: NumbaDeprecationWarning: The 'nopython' keyword argument was not supplied to the 'numba.jit' decorator. The implicit default value for this argument is currently False, but it will be changed to True in Numba 0.59.0. See https://numba.readthedocs.io/en/stable/reference/deprecation.html#deprecation-of-object-mode-fall-back-behaviour-when-using-jit for details.\n",
      "  def _identity_inverse(x):\n",
      "/data1/wuguojia/software/miniconda/envs/shaplime/lib/python3.8/site-packages/shap/links.py:15: NumbaDeprecationWarning: The 'nopython' keyword argument was not supplied to the 'numba.jit' decorator. The implicit default value for this argument is currently False, but it will be changed to True in Numba 0.59.0. See https://numba.readthedocs.io/en/stable/reference/deprecation.html#deprecation-of-object-mode-fall-back-behaviour-when-using-jit for details.\n",
      "  def logit(x):\n",
      "/data1/wuguojia/software/miniconda/envs/shaplime/lib/python3.8/site-packages/shap/links.py:20: NumbaDeprecationWarning: The 'nopython' keyword argument was not supplied to the 'numba.jit' decorator. The implicit default value for this argument is currently False, but it will be changed to True in Numba 0.59.0. See https://numba.readthedocs.io/en/stable/reference/deprecation.html#deprecation-of-object-mode-fall-back-behaviour-when-using-jit for details.\n",
      "  def _logit_inverse(x):\n",
      "/data1/wuguojia/software/miniconda/envs/shaplime/lib/python3.8/site-packages/shap/utils/_masked_model.py:363: NumbaDeprecationWarning: The 'nopython' keyword argument was not supplied to the 'numba.jit' decorator. The implicit default value for this argument is currently False, but it will be changed to True in Numba 0.59.0. See https://numba.readthedocs.io/en/stable/reference/deprecation.html#deprecation-of-object-mode-fall-back-behaviour-when-using-jit for details.\n",
      "  def _build_fixed_single_output(averaged_outs, last_outs, outputs, batch_positions, varying_rows, num_varying_rows, link, linearizing_weights):\n",
      "/data1/wuguojia/software/miniconda/envs/shaplime/lib/python3.8/site-packages/shap/utils/_masked_model.py:385: NumbaDeprecationWarning: The 'nopython' keyword argument was not supplied to the 'numba.jit' decorator. The implicit default value for this argument is currently False, but it will be changed to True in Numba 0.59.0. See https://numba.readthedocs.io/en/stable/reference/deprecation.html#deprecation-of-object-mode-fall-back-behaviour-when-using-jit for details.\n",
      "  def _build_fixed_multi_output(averaged_outs, last_outs, outputs, batch_positions, varying_rows, num_varying_rows, link, linearizing_weights):\n",
      "/data1/wuguojia/software/miniconda/envs/shaplime/lib/python3.8/site-packages/shap/utils/_masked_model.py:428: NumbaDeprecationWarning: The 'nopython' keyword argument was not supplied to the 'numba.jit' decorator. The implicit default value for this argument is currently False, but it will be changed to True in Numba 0.59.0. See https://numba.readthedocs.io/en/stable/reference/deprecation.html#deprecation-of-object-mode-fall-back-behaviour-when-using-jit for details.\n",
      "  def _init_masks(cluster_matrix, M, indices_row_pos, indptr):\n",
      "/data1/wuguojia/software/miniconda/envs/shaplime/lib/python3.8/site-packages/shap/utils/_masked_model.py:439: NumbaDeprecationWarning: The 'nopython' keyword argument was not supplied to the 'numba.jit' decorator. The implicit default value for this argument is currently False, but it will be changed to True in Numba 0.59.0. See https://numba.readthedocs.io/en/stable/reference/deprecation.html#deprecation-of-object-mode-fall-back-behaviour-when-using-jit for details.\n",
      "  def _rec_fill_masks(cluster_matrix, indices_row_pos, indptr, indices, M, ind):\n",
      "/data1/wuguojia/software/miniconda/envs/shaplime/lib/python3.8/site-packages/shap/maskers/_tabular.py:186: NumbaDeprecationWarning: The 'nopython' keyword argument was not supplied to the 'numba.jit' decorator. The implicit default value for this argument is currently False, but it will be changed to True in Numba 0.59.0. See https://numba.readthedocs.io/en/stable/reference/deprecation.html#deprecation-of-object-mode-fall-back-behaviour-when-using-jit for details.\n",
      "  def _single_delta_mask(dind, masked_inputs, last_mask, data, x, noop_code):\n",
      "/data1/wuguojia/software/miniconda/envs/shaplime/lib/python3.8/site-packages/shap/maskers/_tabular.py:197: NumbaDeprecationWarning: The 'nopython' keyword argument was not supplied to the 'numba.jit' decorator. The implicit default value for this argument is currently False, but it will be changed to True in Numba 0.59.0. See https://numba.readthedocs.io/en/stable/reference/deprecation.html#deprecation-of-object-mode-fall-back-behaviour-when-using-jit for details.\n",
      "  def _delta_masking(masks, x, curr_delta_inds, varying_rows_out,\n",
      "/data1/wuguojia/software/miniconda/envs/shaplime/lib/python3.8/site-packages/shap/maskers/_image.py:175: NumbaDeprecationWarning: The 'nopython' keyword argument was not supplied to the 'numba.jit' decorator. The implicit default value for this argument is currently False, but it will be changed to True in Numba 0.59.0. See https://numba.readthedocs.io/en/stable/reference/deprecation.html#deprecation-of-object-mode-fall-back-behaviour-when-using-jit for details.\n",
      "  def _jit_build_partition_tree(xmin, xmax, ymin, ymax, zmin, zmax, total_ywidth, total_zwidth, M, clustering, q):\n",
      "/data1/wuguojia/software/miniconda/envs/shaplime/lib/python3.8/site-packages/tqdm/auto.py:21: TqdmWarning: IProgress not found. Please update jupyter and ipywidgets. See https://ipywidgets.readthedocs.io/en/stable/user_install.html\n",
      "  from .autonotebook import tqdm as notebook_tqdm\n",
      "/data1/wuguojia/software/miniconda/envs/shaplime/lib/python3.8/site-packages/shap/explainers/_partition.py:676: NumbaDeprecationWarning: The 'nopython' keyword argument was not supplied to the 'numba.jit' decorator. The implicit default value for this argument is currently False, but it will be changed to True in Numba 0.59.0. See https://numba.readthedocs.io/en/stable/reference/deprecation.html#deprecation-of-object-mode-fall-back-behaviour-when-using-jit for details.\n",
      "  def lower_credit(i, value, M, values, clustering):\n",
      "The 'nopython' keyword argument was not supplied to the 'numba.jit' decorator. The implicit default value for this argument is currently False, but it will be changed to True in Numba 0.59.0. See https://numba.readthedocs.io/en/stable/reference/deprecation.html#deprecation-of-object-mode-fall-back-behaviour-when-using-jit for details.\n",
      "The 'nopython' keyword argument was not supplied to the 'numba.jit' decorator. The implicit default value for this argument is currently False, but it will be changed to True in Numba 0.59.0. See https://numba.readthedocs.io/en/stable/reference/deprecation.html#deprecation-of-object-mode-fall-back-behaviour-when-using-jit for details.\n"
     ]
    }
   ],
   "source": [
    "import numpy as np\n",
    "import pandas as pd\n",
    "import matplotlib.pyplot as plt\n",
    "import matplotlib.gridspec as gridspec\n",
    "import seaborn as sns\n",
    "import pickle, importlib\n",
    "import argparse\n",
    "import subprocess\n",
    "import sys\n",
    "import lime\n",
    "import lime.lime_tabular\n",
    "import shap\n",
    "%matplotlib inline"
   ]
  },
  {
   "cell_type": "code",
   "execution_count": 2,
   "id": "e69c84ac-71be-4976-96e2-bd8b0af0d684",
   "metadata": {
    "execution": {
     "iopub.execute_input": "2024-10-18T13:45:33.567012Z",
     "iopub.status.busy": "2024-10-18T13:45:33.566352Z",
     "iopub.status.idle": "2024-10-18T13:46:04.389694Z",
     "shell.execute_reply": "2024-10-18T13:46:04.388504Z",
     "shell.execute_reply.started": "2024-10-18T13:45:33.566978Z"
    }
   },
   "outputs": [
    {
     "name": "stdout",
     "output_type": "stream",
     "text": [
      "LIME Elution Ligand Rank done\n"
     ]
    }
   ],
   "source": [
    "# LIME \n",
    "command = [\"python\", \"/home/wuguojia/biocode/mhc_benchmark/MHCXAI.py\",\n",
    "           \"--input_list\", \"/data1/wuguojia/data/mhc_benchmark/attentionbase/testdata_raw/HLA-A*01:01_10.csv\",\n",
    "           \"--index\", \"0\",\n",
    "           \"--predictor\",\"transphla\",\n",
    "           \"--xai\",\"LIME\",\n",
    "           \"--mode\",\"None\",\n",
    "           \"--trainf_path\",\"/data1/wuguojia/data/mhc_benchmark/attentionbase/traindata_raw/HLA-A*01:01_10.csv\",\n",
    "           \"--dest\",'/data1/wuguojia/data/mhc_benchmark/attentionbase/result/']\n",
    "\n",
    "result = subprocess.run(command,stdout=subprocess.PIPE, stderr=subprocess.PIPE, universal_newlines=True)\n",
    "print(\"LIME done\")"
   ]
  },
  {
   "cell_type": "code",
   "execution_count": 3,
   "id": "47a06705-9913-4704-900f-941d79986223",
   "metadata": {
    "execution": {
     "iopub.execute_input": "2024-10-18T12:13:38.419562Z",
     "iopub.status.busy": "2024-10-18T12:13:38.419061Z",
     "iopub.status.idle": "2024-10-18T12:13:38.423896Z",
     "shell.execute_reply": "2024-10-18T12:13:38.423245Z",
     "shell.execute_reply.started": "2024-10-18T12:13:38.419528Z"
    }
   },
   "outputs": [
    {
     "name": "stdout",
     "output_type": "stream",
     "text": [
      "CompletedProcess(args=['python', './MHCXAI.py', '--input_list', '/data1/wuguojia/data/mhc_benchmark/attentionbase/testdata_raw/HLA-A*01:01_10.csv', '--index', '0', '--predictor', 'transphla', '--xai', 'LIME', '--mode', 'EL_Rank', '--trainf_path', '/data1/wuguojia/data/mhc_benchmark/attentionbase/traindata_raw/HLA-A*01:01_10.csv', '--dest', '/data1/wuguojia/data/mhc_benchmark/attentionbase/result/'], returncode=1, stdout='LIME\\n', stderr='/data1/wuguojia/software/miniconda/envs/transphla_shap/lib/python3.8/site-packages/shap/utils/_clustering.py:35: NumbaDeprecationWarning: The \\'nopython\\' keyword argument was not supplied to the \\'numba.jit\\' decorator. The implicit default value for this argument is currently False, but it will be changed to True in Numba 0.59.0. See https://numba.readthedocs.io/en/stable/reference/deprecation.html#deprecation-of-object-mode-fall-back-behaviour-when-using-jit for details.\\n  def _pt_shuffle_rec(i, indexes, index_mask, partition_tree, M, pos):\\n/data1/wuguojia/software/miniconda/envs/transphla_shap/lib/python3.8/site-packages/shap/utils/_clustering.py:54: NumbaDeprecationWarning: The \\'nopython\\' keyword argument was not supplied to the \\'numba.jit\\' decorator. The implicit default value for this argument is currently False, but it will be changed to True in Numba 0.59.0. See https://numba.readthedocs.io/en/stable/reference/deprecation.html#deprecation-of-object-mode-fall-back-behaviour-when-using-jit for details.\\n  def delta_minimization_order(all_masks, max_swap_size=100, num_passes=2):\\n/data1/wuguojia/software/miniconda/envs/transphla_shap/lib/python3.8/site-packages/shap/utils/_clustering.py:63: NumbaDeprecationWarning: The \\'nopython\\' keyword argument was not supplied to the \\'numba.jit\\' decorator. The implicit default value for this argument is currently False, but it will be changed to True in Numba 0.59.0. See https://numba.readthedocs.io/en/stable/reference/deprecation.html#deprecation-of-object-mode-fall-back-behaviour-when-using-jit for details.\\n  def _reverse_window(order, start, length):\\n/data1/wuguojia/software/miniconda/envs/transphla_shap/lib/python3.8/site-packages/shap/utils/_clustering.py:69: NumbaDeprecationWarning: The \\'nopython\\' keyword argument was not supplied to the \\'numba.jit\\' decorator. The implicit default value for this argument is currently False, but it will be changed to True in Numba 0.59.0. See https://numba.readthedocs.io/en/stable/reference/deprecation.html#deprecation-of-object-mode-fall-back-behaviour-when-using-jit for details.\\n  def _reverse_window_score_gain(masks, order, start, length):\\n/data1/wuguojia/software/miniconda/envs/transphla_shap/lib/python3.8/site-packages/shap/utils/_clustering.py:77: NumbaDeprecationWarning: The \\'nopython\\' keyword argument was not supplied to the \\'numba.jit\\' decorator. The implicit default value for this argument is currently False, but it will be changed to True in Numba 0.59.0. See https://numba.readthedocs.io/en/stable/reference/deprecation.html#deprecation-of-object-mode-fall-back-behaviour-when-using-jit for details.\\n  def _mask_delta_score(m1, m2):\\n/data1/wuguojia/software/miniconda/envs/transphla_shap/lib/python3.8/site-packages/shap/links.py:5: NumbaDeprecationWarning: The \\'nopython\\' keyword argument was not supplied to the \\'numba.jit\\' decorator. The implicit default value for this argument is currently False, but it will be changed to True in Numba 0.59.0. See https://numba.readthedocs.io/en/stable/reference/deprecation.html#deprecation-of-object-mode-fall-back-behaviour-when-using-jit for details.\\n  def identity(x):\\n/data1/wuguojia/software/miniconda/envs/transphla_shap/lib/python3.8/site-packages/shap/links.py:10: NumbaDeprecationWarning: The \\'nopython\\' keyword argument was not supplied to the \\'numba.jit\\' decorator. The implicit default value for this argument is currently False, but it will be changed to True in Numba 0.59.0. See https://numba.readthedocs.io/en/stable/reference/deprecation.html#deprecation-of-object-mode-fall-back-behaviour-when-using-jit for details.\\n  def _identity_inverse(x):\\n/data1/wuguojia/software/miniconda/envs/transphla_shap/lib/python3.8/site-packages/shap/links.py:15: NumbaDeprecationWarning: The \\'nopython\\' keyword argument was not supplied to the \\'numba.jit\\' decorator. The implicit default value for this argument is currently False, but it will be changed to True in Numba 0.59.0. See https://numba.readthedocs.io/en/stable/reference/deprecation.html#deprecation-of-object-mode-fall-back-behaviour-when-using-jit for details.\\n  def logit(x):\\n/data1/wuguojia/software/miniconda/envs/transphla_shap/lib/python3.8/site-packages/shap/links.py:20: NumbaDeprecationWarning: The \\'nopython\\' keyword argument was not supplied to the \\'numba.jit\\' decorator. The implicit default value for this argument is currently False, but it will be changed to True in Numba 0.59.0. See https://numba.readthedocs.io/en/stable/reference/deprecation.html#deprecation-of-object-mode-fall-back-behaviour-when-using-jit for details.\\n  def _logit_inverse(x):\\n/data1/wuguojia/software/miniconda/envs/transphla_shap/lib/python3.8/site-packages/shap/utils/_masked_model.py:363: NumbaDeprecationWarning: The \\'nopython\\' keyword argument was not supplied to the \\'numba.jit\\' decorator. The implicit default value for this argument is currently False, but it will be changed to True in Numba 0.59.0. See https://numba.readthedocs.io/en/stable/reference/deprecation.html#deprecation-of-object-mode-fall-back-behaviour-when-using-jit for details.\\n  def _build_fixed_single_output(averaged_outs, last_outs, outputs, batch_positions, varying_rows, num_varying_rows, link, linearizing_weights):\\n/data1/wuguojia/software/miniconda/envs/transphla_shap/lib/python3.8/site-packages/shap/utils/_masked_model.py:385: NumbaDeprecationWarning: The \\'nopython\\' keyword argument was not supplied to the \\'numba.jit\\' decorator. The implicit default value for this argument is currently False, but it will be changed to True in Numba 0.59.0. See https://numba.readthedocs.io/en/stable/reference/deprecation.html#deprecation-of-object-mode-fall-back-behaviour-when-using-jit for details.\\n  def _build_fixed_multi_output(averaged_outs, last_outs, outputs, batch_positions, varying_rows, num_varying_rows, link, linearizing_weights):\\n/data1/wuguojia/software/miniconda/envs/transphla_shap/lib/python3.8/site-packages/shap/utils/_masked_model.py:428: NumbaDeprecationWarning: The \\'nopython\\' keyword argument was not supplied to the \\'numba.jit\\' decorator. The implicit default value for this argument is currently False, but it will be changed to True in Numba 0.59.0. See https://numba.readthedocs.io/en/stable/reference/deprecation.html#deprecation-of-object-mode-fall-back-behaviour-when-using-jit for details.\\n  def _init_masks(cluster_matrix, M, indices_row_pos, indptr):\\n/data1/wuguojia/software/miniconda/envs/transphla_shap/lib/python3.8/site-packages/shap/utils/_masked_model.py:439: NumbaDeprecationWarning: The \\'nopython\\' keyword argument was not supplied to the \\'numba.jit\\' decorator. The implicit default value for this argument is currently False, but it will be changed to True in Numba 0.59.0. See https://numba.readthedocs.io/en/stable/reference/deprecation.html#deprecation-of-object-mode-fall-back-behaviour-when-using-jit for details.\\n  def _rec_fill_masks(cluster_matrix, indices_row_pos, indptr, indices, M, ind):\\n/data1/wuguojia/software/miniconda/envs/transphla_shap/lib/python3.8/site-packages/shap/maskers/_tabular.py:186: NumbaDeprecationWarning: The \\'nopython\\' keyword argument was not supplied to the \\'numba.jit\\' decorator. The implicit default value for this argument is currently False, but it will be changed to True in Numba 0.59.0. See https://numba.readthedocs.io/en/stable/reference/deprecation.html#deprecation-of-object-mode-fall-back-behaviour-when-using-jit for details.\\n  def _single_delta_mask(dind, masked_inputs, last_mask, data, x, noop_code):\\n/data1/wuguojia/software/miniconda/envs/transphla_shap/lib/python3.8/site-packages/shap/maskers/_tabular.py:197: NumbaDeprecationWarning: The \\'nopython\\' keyword argument was not supplied to the \\'numba.jit\\' decorator. The implicit default value for this argument is currently False, but it will be changed to True in Numba 0.59.0. See https://numba.readthedocs.io/en/stable/reference/deprecation.html#deprecation-of-object-mode-fall-back-behaviour-when-using-jit for details.\\n  def _delta_masking(masks, x, curr_delta_inds, varying_rows_out,\\n/data1/wuguojia/software/miniconda/envs/transphla_shap/lib/python3.8/site-packages/shap/maskers/_image.py:175: NumbaDeprecationWarning: The \\'nopython\\' keyword argument was not supplied to the \\'numba.jit\\' decorator. The implicit default value for this argument is currently False, but it will be changed to True in Numba 0.59.0. See https://numba.readthedocs.io/en/stable/reference/deprecation.html#deprecation-of-object-mode-fall-back-behaviour-when-using-jit for details.\\n  def _jit_build_partition_tree(xmin, xmax, ymin, ymax, zmin, zmax, total_ywidth, total_zwidth, M, clustering, q):\\n/data1/wuguojia/software/miniconda/envs/transphla_shap/lib/python3.8/site-packages/shap/explainers/_partition.py:676: NumbaDeprecationWarning: The \\'nopython\\' keyword argument was not supplied to the \\'numba.jit\\' decorator. The implicit default value for this argument is currently False, but it will be changed to True in Numba 0.59.0. See https://numba.readthedocs.io/en/stable/reference/deprecation.html#deprecation-of-object-mode-fall-back-behaviour-when-using-jit for details.\\n  def lower_credit(i, value, M, values, clustering):\\nThe \\'nopython\\' keyword argument was not supplied to the \\'numba.jit\\' decorator. The implicit default value for this argument is currently False, but it will be changed to True in Numba 0.59.0. See https://numba.readthedocs.io/en/stable/reference/deprecation.html#deprecation-of-object-mode-fall-back-behaviour-when-using-jit for details.\\nThe \\'nopython\\' keyword argument was not supplied to the \\'numba.jit\\' decorator. The implicit default value for this argument is currently False, but it will be changed to True in Numba 0.59.0. See https://numba.readthedocs.io/en/stable/reference/deprecation.html#deprecation-of-object-mode-fall-back-behaviour-when-using-jit for details.\\nTraceback (most recent call last):\\n  File \"./MHCXAI.py\", line 259, in <module>\\n    explainer, exp = mhcxai.LIMEtabular(peptide,allele,trainf_path,predictor,dest,mode=mode,num_samples=5000)\\n  File \"./MHCXAI.py\", line 189, in LIMEtabular\\n    exp = explainer.explain_instance(peptide, self.transphla_predict_class, num_features=len(peptide), num_samples=num_samples)\\n  File \"/data1/wuguojia/software/miniconda/envs/transphla_shap/lib/python3.8/site-packages/lime/lime_tabular.py\", line 355, in explain_instance\\n    yss = predict_fn(inverse)\\n  File \"./MHCXAI.py\", line 113, in transphla_predict_class\\n    import pHLAIformer\\n  File \"/data1/wuguojia/data/mhc_benchmark/tools/TransPHLA-AOMP/TransPHLA-AOMP/pHLAIformer.py\", line 5, in <module>\\n    from model import *\\n  File \"/data1/wuguojia/data/mhc_benchmark/tools/TransPHLA-AOMP/TransPHLA-AOMP/model.py\", line 50, in <module>\\n    vocab = np.load(\\'vocab_dict.npy\\', allow_pickle = True).item()\\n  File \"/data1/wuguojia/software/miniconda/envs/transphla_shap/lib/python3.8/site-packages/numpy/lib/npyio.py\", line 405, in load\\n    fid = stack.enter_context(open(os_fspath(file), \"rb\"))\\nFileNotFoundError: [Errno 2] No such file or directory: \\'vocab_dict.npy\\'\\n')\n"
     ]
    }
   ],
   "source": [
    "print(result)"
   ]
  },
  {
   "cell_type": "code",
   "execution_count": null,
   "id": "fa597633-de5e-410e-9e82-c949617c82ae",
   "metadata": {},
   "outputs": [],
   "source": []
  }
 ],
 "metadata": {
  "kernelspec": {
   "display_name": "Python (shaplime)",
   "language": "python",
   "name": "shaplime"
  },
  "language_info": {
   "codemirror_mode": {
    "name": "ipython",
    "version": 3
   },
   "file_extension": ".py",
   "mimetype": "text/x-python",
   "name": "python",
   "nbconvert_exporter": "python",
   "pygments_lexer": "ipython3",
   "version": "3.8.0"
  }
 },
 "nbformat": 4,
 "nbformat_minor": 5
}
