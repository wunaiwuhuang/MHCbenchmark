{
 "cells": [
  {
   "cell_type": "code",
   "execution_count": 1,
   "id": "1ed3c81a-a74d-4347-8d17-278b8fa4df73",
   "metadata": {
    "execution": {
     "iopub.execute_input": "2024-10-17T14:50:09.798532Z",
     "iopub.status.busy": "2024-10-17T14:50:09.798110Z",
     "iopub.status.idle": "2024-10-17T14:50:51.812729Z",
     "shell.execute_reply": "2024-10-17T14:50:51.812039Z",
     "shell.execute_reply.started": "2024-10-17T14:50:09.798503Z"
    }
   },
   "outputs": [],
   "source": [
    "import pandas as pd\n",
    "path_test = '/data1/wuguojia/data/mhc_benchmark/testbase'\n",
    "path_attention = '/data1/wuguojia/data/mhc_benchmark/attentionbase'\n",
    "\n",
    "#read files\n",
    "df_1 = pd.read_csv(f'{path_test}/auroc_hla:len2tool_filter.csv')\n",
    "df_2 = pd.read_excel(f'{path_test}/TEST.xlsx', sheet_name=0)\n",
    "df_3 = pd.read_excel(f'{path_test}/TEST.xlsx', sheet_name=2)"
   ]
  },
  {
   "cell_type": "code",
   "execution_count": 3,
   "id": "ac7d413a-8a7d-4aa1-b6c2-c11e6f056f71",
   "metadata": {
    "execution": {
     "iopub.execute_input": "2024-10-17T14:50:57.127889Z",
     "iopub.status.busy": "2024-10-17T14:50:57.127465Z",
     "iopub.status.idle": "2024-10-17T14:50:57.147107Z",
     "shell.execute_reply": "2024-10-17T14:50:57.146565Z",
     "shell.execute_reply.started": "2024-10-17T14:50:57.127862Z"
    }
   },
   "outputs": [],
   "source": [
    "#left good samples\n",
    "cols_to_check = df_1.columns[3:]\n",
    "df_cleaned = df_1.dropna(subset=cols_to_check, how='any').copy()\n",
    "df_cleaned[cols_to_check] = df_cleaned[cols_to_check].apply(pd.to_numeric, errors='coerce')\n",
    "df_cleaned = df_cleaned.dropna(subset=cols_to_check, how='any')\n",
    "df_3.rename(columns={df_3.columns[0]: 'allele'}, inplace=True)\n",
    "df_merged = pd.merge(df_cleaned, df_3, left_on='allele', right_on='allele', how='inner')\n",
    "df_merged = df_merged[['allele', 'peptide_length', 'SUM']]\n",
    "df_merged['num'] = df_merged.groupby('allele')['allele'].transform('count')\n",
    "df_merged = df_merged[df_merged['num'] == 4]\n",
    "df_sorted = df_merged.sort_values(by='SUM', ascending=False)\n",
    "df_sorted = df_sorted.drop_duplicates(subset='allele')"
   ]
  },
  {
   "cell_type": "code",
   "execution_count": 4,
   "id": "9ea4324a-7068-41cf-b159-a9a3026784fa",
   "metadata": {
    "execution": {
     "iopub.execute_input": "2024-10-17T14:51:00.230833Z",
     "iopub.status.busy": "2024-10-17T14:51:00.230329Z",
     "iopub.status.idle": "2024-10-17T14:51:00.254588Z",
     "shell.execute_reply": "2024-10-17T14:51:00.254038Z",
     "shell.execute_reply.started": "2024-10-17T14:51:00.230804Z"
    }
   },
   "outputs": [
    {
     "name": "stdout",
     "output_type": "stream",
     "text": [
      "         allele  peptide_length    SUM  num\n",
      "4   HLA-A*02:01              10  63082    4\n",
      "55  HLA-B*15:02               9  43894    4\n",
      "93  HLA-B*51:01               9  18296    4\n",
      "77  HLA-B*40:01               9  17694    4\n",
      "41  HLA-B*07:02              11  15618    4\n",
      "22  HLA-A*24:02               9  12014    4\n",
      "1   HLA-A*01:01              11   9946    4\n",
      "85  HLA-B*44:02               9   6194    4\n",
      "12  HLA-A*11:01              11   4304    4\n",
      "89  HLA-B*44:03               9   3986    4\n",
      "58  HLA-B*18:01               8   3758    4\n",
      "98  HLA-B*57:01               8   2704    4\n",
      "18  HLA-A*23:01               9   2054    4\n",
      "80  HLA-B*40:02               8   1918    4\n",
      "63  HLA-B*35:01              10   1686    4\n"
     ]
    }
   ],
   "source": [
    "print(df_sorted)\n",
    "pd.reset_option('display.max_rows')"
   ]
  },
  {
   "cell_type": "code",
   "execution_count": 5,
   "id": "601ee08a-0601-4eb5-83d1-86b9461a7eb0",
   "metadata": {
    "execution": {
     "iopub.execute_input": "2024-10-17T14:51:02.302755Z",
     "iopub.status.busy": "2024-10-17T14:51:02.302330Z",
     "iopub.status.idle": "2024-10-17T14:51:02.308988Z",
     "shell.execute_reply": "2024-10-17T14:51:02.308463Z",
     "shell.execute_reply.started": "2024-10-17T14:51:02.302727Z"
    }
   },
   "outputs": [
    {
     "name": "stdout",
     "output_type": "stream",
     "text": [
      "0    HLA-A*02:01\n",
      "1    HLA-A*24:02\n",
      "2    HLA-A*01:01\n",
      "3    HLA-A*11:01\n",
      "4    HLA-A*23:01\n",
      "5    HLA-B*15:02\n",
      "6    HLA-B*51:01\n",
      "7    HLA-B*40:01\n",
      "8    HLA-B*07:02\n",
      "9    HLA-B*44:02\n",
      "Name: allele, dtype: object\n"
     ]
    }
   ],
   "source": [
    "hla_a = df_sorted.loc[df_sorted['allele'].str.contains('HLA-A'), 'allele'].head(5)\n",
    "hla_b = df_sorted.loc[df_sorted['allele'].str.contains('HLA-B'), 'allele'].head(5)\n",
    "hla = pd.concat([hla_a, hla_b], ignore_index=True)\n",
    "print(hla)"
   ]
  },
  {
   "cell_type": "code",
   "execution_count": 6,
   "id": "fba0de4e-d11e-462c-b86b-a58b26ee11f0",
   "metadata": {
    "execution": {
     "iopub.execute_input": "2024-10-17T14:51:07.232166Z",
     "iopub.status.busy": "2024-10-17T14:51:07.231488Z",
     "iopub.status.idle": "2024-10-17T14:51:20.783295Z",
     "shell.execute_reply": "2024-10-17T14:51:20.782574Z",
     "shell.execute_reply.started": "2024-10-17T14:51:07.232138Z"
    },
    "scrolled": true
   },
   "outputs": [],
   "source": [
    "#generate train and test datasets\n",
    "df_all = df_2[df_2['hlatype'].isin(hla)]\n",
    "from sklearn.model_selection import train_test_split\n",
    "train_df, test_df = train_test_split(df_all, test_size=0.1, stratify=df_all[['hlatype', 'antigen_peptide_length', 'bind_result']], random_state=123)\n",
    "#save files\n",
    "import os\n",
    "train_data_path = os.path.join(path_attention, 'traindata_raw')\n",
    "test_data_path = os.path.join(path_attention, 'testdata_raw')\n",
    "os.makedirs(train_data_path, exist_ok=True)\n",
    "os.makedirs(test_data_path, exist_ok=True)\n",
    "def save_subsets(df, folder_path, prefix):\n",
    "    for (hlatype, length), group in df.groupby(['hlatype', 'antigen_peptide_length']):\n",
    "        filename = f\"{hlatype}_{length}.csv\"\n",
    "        group.to_csv(os.path.join(folder_path, filename), index=False)\n",
    "save_subsets(train_df, train_data_path, \"train\")\n",
    "save_subsets(test_df, test_data_path, \"test\")"
   ]
  },
  {
   "cell_type": "code",
   "execution_count": 7,
   "id": "7a9361d6-c1e6-4f8e-9a95-26b6b5f18929",
   "metadata": {
    "execution": {
     "iopub.execute_input": "2024-10-17T14:51:45.342407Z",
     "iopub.status.busy": "2024-10-17T14:51:45.341967Z",
     "iopub.status.idle": "2024-10-17T14:51:45.348868Z",
     "shell.execute_reply": "2024-10-17T14:51:45.348307Z",
     "shell.execute_reply.started": "2024-10-17T14:51:45.342376Z"
    }
   },
   "outputs": [],
   "source": [
    "#generate usable training data\n",
    "import pickle, importlib\n",
    "\n",
    "def AA_to_num(peptide):\n",
    "    values = dict([(x.split('=')[1], x.split('=')[0]) for x in AA])\n",
    "    peptide = np.array(list(map(lambda x: values[x], peptide)))\n",
    "    return peptide\n",
    "\n",
    "def num_to_AA(peptide):\n",
    "    values = dict([(int(x.split('=')[0]), x.split('=')[1]) for x in AA])\n",
    "    peptide = list(map(lambda x: values[x], peptide))\n",
    "    str_peptide = ''\n",
    "    for aa in peptide:\n",
    "        str_peptide+=aa\n",
    "    return str_peptide\n",
    "\n",
    "def transform_train(train_file):\n",
    "    df = pd.read_csv(train_file)\n",
    "    peptides = df['antigen_peptide'].tolist()\n",
    "    train = np.array([AA_to_num(peptide) for peptide in peptides], dtype='<U20')\n",
    "    return train.astype(float)\n",
    "\n",
    "AA = ['0=A','1=R','2=N','3=D','4=C','5=E','6=Q','7=G','8=H','9=I','10=L','11=K','12=M','13=F','14=P','15=S','16=T','17=W','18=Y','19=V','20=B','21=J','22=O','23=U','24=X','25=Z']"
   ]
  },
  {
   "cell_type": "code",
   "execution_count": 8,
   "id": "75516963-e51c-4c70-b863-143215e1b441",
   "metadata": {
    "execution": {
     "iopub.execute_input": "2024-10-17T14:52:11.480447Z",
     "iopub.status.busy": "2024-10-17T14:52:11.479997Z",
     "iopub.status.idle": "2024-10-17T14:52:58.145267Z",
     "shell.execute_reply": "2024-10-17T14:52:58.141639Z",
     "shell.execute_reply.started": "2024-10-17T14:52:11.480409Z"
    },
    "scrolled": true
   },
   "outputs": [
    {
     "name": "stderr",
     "output_type": "stream",
     "text": [
      "/data1/wuguojia/software/miniconda/envs/shaplime/lib/python3.8/site-packages/shap/utils/_clustering.py:35: NumbaDeprecationWarning: The 'nopython' keyword argument was not supplied to the 'numba.jit' decorator. The implicit default value for this argument is currently False, but it will be changed to True in Numba 0.59.0. See https://numba.readthedocs.io/en/stable/reference/deprecation.html#deprecation-of-object-mode-fall-back-behaviour-when-using-jit for details.\n",
      "  def _pt_shuffle_rec(i, indexes, index_mask, partition_tree, M, pos):\n",
      "/data1/wuguojia/software/miniconda/envs/shaplime/lib/python3.8/site-packages/shap/utils/_clustering.py:54: NumbaDeprecationWarning: The 'nopython' keyword argument was not supplied to the 'numba.jit' decorator. The implicit default value for this argument is currently False, but it will be changed to True in Numba 0.59.0. See https://numba.readthedocs.io/en/stable/reference/deprecation.html#deprecation-of-object-mode-fall-back-behaviour-when-using-jit for details.\n",
      "  def delta_minimization_order(all_masks, max_swap_size=100, num_passes=2):\n",
      "/data1/wuguojia/software/miniconda/envs/shaplime/lib/python3.8/site-packages/shap/utils/_clustering.py:63: NumbaDeprecationWarning: The 'nopython' keyword argument was not supplied to the 'numba.jit' decorator. The implicit default value for this argument is currently False, but it will be changed to True in Numba 0.59.0. See https://numba.readthedocs.io/en/stable/reference/deprecation.html#deprecation-of-object-mode-fall-back-behaviour-when-using-jit for details.\n",
      "  def _reverse_window(order, start, length):\n",
      "/data1/wuguojia/software/miniconda/envs/shaplime/lib/python3.8/site-packages/shap/utils/_clustering.py:69: NumbaDeprecationWarning: The 'nopython' keyword argument was not supplied to the 'numba.jit' decorator. The implicit default value for this argument is currently False, but it will be changed to True in Numba 0.59.0. See https://numba.readthedocs.io/en/stable/reference/deprecation.html#deprecation-of-object-mode-fall-back-behaviour-when-using-jit for details.\n",
      "  def _reverse_window_score_gain(masks, order, start, length):\n",
      "/data1/wuguojia/software/miniconda/envs/shaplime/lib/python3.8/site-packages/shap/utils/_clustering.py:77: NumbaDeprecationWarning: The 'nopython' keyword argument was not supplied to the 'numba.jit' decorator. The implicit default value for this argument is currently False, but it will be changed to True in Numba 0.59.0. See https://numba.readthedocs.io/en/stable/reference/deprecation.html#deprecation-of-object-mode-fall-back-behaviour-when-using-jit for details.\n",
      "  def _mask_delta_score(m1, m2):\n",
      "/data1/wuguojia/software/miniconda/envs/shaplime/lib/python3.8/site-packages/shap/links.py:5: NumbaDeprecationWarning: The 'nopython' keyword argument was not supplied to the 'numba.jit' decorator. The implicit default value for this argument is currently False, but it will be changed to True in Numba 0.59.0. See https://numba.readthedocs.io/en/stable/reference/deprecation.html#deprecation-of-object-mode-fall-back-behaviour-when-using-jit for details.\n",
      "  def identity(x):\n",
      "/data1/wuguojia/software/miniconda/envs/shaplime/lib/python3.8/site-packages/shap/links.py:10: NumbaDeprecationWarning: The 'nopython' keyword argument was not supplied to the 'numba.jit' decorator. The implicit default value for this argument is currently False, but it will be changed to True in Numba 0.59.0. See https://numba.readthedocs.io/en/stable/reference/deprecation.html#deprecation-of-object-mode-fall-back-behaviour-when-using-jit for details.\n",
      "  def _identity_inverse(x):\n",
      "/data1/wuguojia/software/miniconda/envs/shaplime/lib/python3.8/site-packages/shap/links.py:15: NumbaDeprecationWarning: The 'nopython' keyword argument was not supplied to the 'numba.jit' decorator. The implicit default value for this argument is currently False, but it will be changed to True in Numba 0.59.0. See https://numba.readthedocs.io/en/stable/reference/deprecation.html#deprecation-of-object-mode-fall-back-behaviour-when-using-jit for details.\n",
      "  def logit(x):\n",
      "/data1/wuguojia/software/miniconda/envs/shaplime/lib/python3.8/site-packages/shap/links.py:20: NumbaDeprecationWarning: The 'nopython' keyword argument was not supplied to the 'numba.jit' decorator. The implicit default value for this argument is currently False, but it will be changed to True in Numba 0.59.0. See https://numba.readthedocs.io/en/stable/reference/deprecation.html#deprecation-of-object-mode-fall-back-behaviour-when-using-jit for details.\n",
      "  def _logit_inverse(x):\n",
      "/data1/wuguojia/software/miniconda/envs/shaplime/lib/python3.8/site-packages/shap/utils/_masked_model.py:363: NumbaDeprecationWarning: The 'nopython' keyword argument was not supplied to the 'numba.jit' decorator. The implicit default value for this argument is currently False, but it will be changed to True in Numba 0.59.0. See https://numba.readthedocs.io/en/stable/reference/deprecation.html#deprecation-of-object-mode-fall-back-behaviour-when-using-jit for details.\n",
      "  def _build_fixed_single_output(averaged_outs, last_outs, outputs, batch_positions, varying_rows, num_varying_rows, link, linearizing_weights):\n",
      "/data1/wuguojia/software/miniconda/envs/shaplime/lib/python3.8/site-packages/shap/utils/_masked_model.py:385: NumbaDeprecationWarning: The 'nopython' keyword argument was not supplied to the 'numba.jit' decorator. The implicit default value for this argument is currently False, but it will be changed to True in Numba 0.59.0. See https://numba.readthedocs.io/en/stable/reference/deprecation.html#deprecation-of-object-mode-fall-back-behaviour-when-using-jit for details.\n",
      "  def _build_fixed_multi_output(averaged_outs, last_outs, outputs, batch_positions, varying_rows, num_varying_rows, link, linearizing_weights):\n",
      "/data1/wuguojia/software/miniconda/envs/shaplime/lib/python3.8/site-packages/shap/utils/_masked_model.py:428: NumbaDeprecationWarning: The 'nopython' keyword argument was not supplied to the 'numba.jit' decorator. The implicit default value for this argument is currently False, but it will be changed to True in Numba 0.59.0. See https://numba.readthedocs.io/en/stable/reference/deprecation.html#deprecation-of-object-mode-fall-back-behaviour-when-using-jit for details.\n",
      "  def _init_masks(cluster_matrix, M, indices_row_pos, indptr):\n",
      "/data1/wuguojia/software/miniconda/envs/shaplime/lib/python3.8/site-packages/shap/utils/_masked_model.py:439: NumbaDeprecationWarning: The 'nopython' keyword argument was not supplied to the 'numba.jit' decorator. The implicit default value for this argument is currently False, but it will be changed to True in Numba 0.59.0. See https://numba.readthedocs.io/en/stable/reference/deprecation.html#deprecation-of-object-mode-fall-back-behaviour-when-using-jit for details.\n",
      "  def _rec_fill_masks(cluster_matrix, indices_row_pos, indptr, indices, M, ind):\n",
      "/data1/wuguojia/software/miniconda/envs/shaplime/lib/python3.8/site-packages/shap/maskers/_tabular.py:186: NumbaDeprecationWarning: The 'nopython' keyword argument was not supplied to the 'numba.jit' decorator. The implicit default value for this argument is currently False, but it will be changed to True in Numba 0.59.0. See https://numba.readthedocs.io/en/stable/reference/deprecation.html#deprecation-of-object-mode-fall-back-behaviour-when-using-jit for details.\n",
      "  def _single_delta_mask(dind, masked_inputs, last_mask, data, x, noop_code):\n",
      "/data1/wuguojia/software/miniconda/envs/shaplime/lib/python3.8/site-packages/shap/maskers/_tabular.py:197: NumbaDeprecationWarning: The 'nopython' keyword argument was not supplied to the 'numba.jit' decorator. The implicit default value for this argument is currently False, but it will be changed to True in Numba 0.59.0. See https://numba.readthedocs.io/en/stable/reference/deprecation.html#deprecation-of-object-mode-fall-back-behaviour-when-using-jit for details.\n",
      "  def _delta_masking(masks, x, curr_delta_inds, varying_rows_out,\n",
      "/data1/wuguojia/software/miniconda/envs/shaplime/lib/python3.8/site-packages/shap/maskers/_image.py:175: NumbaDeprecationWarning: The 'nopython' keyword argument was not supplied to the 'numba.jit' decorator. The implicit default value for this argument is currently False, but it will be changed to True in Numba 0.59.0. See https://numba.readthedocs.io/en/stable/reference/deprecation.html#deprecation-of-object-mode-fall-back-behaviour-when-using-jit for details.\n",
      "  def _jit_build_partition_tree(xmin, xmax, ymin, ymax, zmin, zmax, total_ywidth, total_zwidth, M, clustering, q):\n",
      "/data1/wuguojia/software/miniconda/envs/shaplime/lib/python3.8/site-packages/tqdm/auto.py:21: TqdmWarning: IProgress not found. Please update jupyter and ipywidgets. See https://ipywidgets.readthedocs.io/en/stable/user_install.html\n",
      "  from .autonotebook import tqdm as notebook_tqdm\n",
      "/data1/wuguojia/software/miniconda/envs/shaplime/lib/python3.8/site-packages/shap/explainers/_partition.py:676: NumbaDeprecationWarning: The 'nopython' keyword argument was not supplied to the 'numba.jit' decorator. The implicit default value for this argument is currently False, but it will be changed to True in Numba 0.59.0. See https://numba.readthedocs.io/en/stable/reference/deprecation.html#deprecation-of-object-mode-fall-back-behaviour-when-using-jit for details.\n",
      "  def lower_credit(i, value, M, values, clustering):\n",
      "The 'nopython' keyword argument was not supplied to the 'numba.jit' decorator. The implicit default value for this argument is currently False, but it will be changed to True in Numba 0.59.0. See https://numba.readthedocs.io/en/stable/reference/deprecation.html#deprecation-of-object-mode-fall-back-behaviour-when-using-jit for details.\n",
      "The 'nopython' keyword argument was not supplied to the 'numba.jit' decorator. The implicit default value for this argument is currently False, but it will be changed to True in Numba 0.59.0. See https://numba.readthedocs.io/en/stable/reference/deprecation.html#deprecation-of-object-mode-fall-back-behaviour-when-using-jit for details.\n",
      "The default value of `n_init` will change from 10 to 'auto' in 1.4. Set the value of `n_init` explicitly to suppress the warning\n",
      "The default value of `n_init` will change from 10 to 'auto' in 1.4. Set the value of `n_init` explicitly to suppress the warning\n",
      "The default value of `n_init` will change from 10 to 'auto' in 1.4. Set the value of `n_init` explicitly to suppress the warning\n",
      "The default value of `n_init` will change from 10 to 'auto' in 1.4. Set the value of `n_init` explicitly to suppress the warning\n",
      "The default value of `n_init` will change from 10 to 'auto' in 1.4. Set the value of `n_init` explicitly to suppress the warning\n",
      "The default value of `n_init` will change from 10 to 'auto' in 1.4. Set the value of `n_init` explicitly to suppress the warning\n",
      "The default value of `n_init` will change from 10 to 'auto' in 1.4. Set the value of `n_init` explicitly to suppress the warning\n",
      "The default value of `n_init` will change from 10 to 'auto' in 1.4. Set the value of `n_init` explicitly to suppress the warning\n",
      "The default value of `n_init` will change from 10 to 'auto' in 1.4. Set the value of `n_init` explicitly to suppress the warning\n",
      "The default value of `n_init` will change from 10 to 'auto' in 1.4. Set the value of `n_init` explicitly to suppress the warning\n",
      "The default value of `n_init` will change from 10 to 'auto' in 1.4. Set the value of `n_init` explicitly to suppress the warning\n",
      "The default value of `n_init` will change from 10 to 'auto' in 1.4. Set the value of `n_init` explicitly to suppress the warning\n",
      "The default value of `n_init` will change from 10 to 'auto' in 1.4. Set the value of `n_init` explicitly to suppress the warning\n",
      "The default value of `n_init` will change from 10 to 'auto' in 1.4. Set the value of `n_init` explicitly to suppress the warning\n",
      "The default value of `n_init` will change from 10 to 'auto' in 1.4. Set the value of `n_init` explicitly to suppress the warning\n",
      "The default value of `n_init` will change from 10 to 'auto' in 1.4. Set the value of `n_init` explicitly to suppress the warning\n",
      "The default value of `n_init` will change from 10 to 'auto' in 1.4. Set the value of `n_init` explicitly to suppress the warning\n",
      "The default value of `n_init` will change from 10 to 'auto' in 1.4. Set the value of `n_init` explicitly to suppress the warning\n",
      "The default value of `n_init` will change from 10 to 'auto' in 1.4. Set the value of `n_init` explicitly to suppress the warning\n",
      "The default value of `n_init` will change from 10 to 'auto' in 1.4. Set the value of `n_init` explicitly to suppress the warning\n",
      "The default value of `n_init` will change from 10 to 'auto' in 1.4. Set the value of `n_init` explicitly to suppress the warning\n",
      "The default value of `n_init` will change from 10 to 'auto' in 1.4. Set the value of `n_init` explicitly to suppress the warning\n",
      "The default value of `n_init` will change from 10 to 'auto' in 1.4. Set the value of `n_init` explicitly to suppress the warning\n",
      "The default value of `n_init` will change from 10 to 'auto' in 1.4. Set the value of `n_init` explicitly to suppress the warning\n",
      "The default value of `n_init` will change from 10 to 'auto' in 1.4. Set the value of `n_init` explicitly to suppress the warning\n",
      "The default value of `n_init` will change from 10 to 'auto' in 1.4. Set the value of `n_init` explicitly to suppress the warning\n",
      "The default value of `n_init` will change from 10 to 'auto' in 1.4. Set the value of `n_init` explicitly to suppress the warning\n",
      "The default value of `n_init` will change from 10 to 'auto' in 1.4. Set the value of `n_init` explicitly to suppress the warning\n",
      "The default value of `n_init` will change from 10 to 'auto' in 1.4. Set the value of `n_init` explicitly to suppress the warning\n",
      "The default value of `n_init` will change from 10 to 'auto' in 1.4. Set the value of `n_init` explicitly to suppress the warning\n",
      "The default value of `n_init` will change from 10 to 'auto' in 1.4. Set the value of `n_init` explicitly to suppress the warning\n",
      "The default value of `n_init` will change from 10 to 'auto' in 1.4. Set the value of `n_init` explicitly to suppress the warning\n",
      "The default value of `n_init` will change from 10 to 'auto' in 1.4. Set the value of `n_init` explicitly to suppress the warning\n",
      "The default value of `n_init` will change from 10 to 'auto' in 1.4. Set the value of `n_init` explicitly to suppress the warning\n",
      "The default value of `n_init` will change from 10 to 'auto' in 1.4. Set the value of `n_init` explicitly to suppress the warning\n",
      "The default value of `n_init` will change from 10 to 'auto' in 1.4. Set the value of `n_init` explicitly to suppress the warning\n",
      "The default value of `n_init` will change from 10 to 'auto' in 1.4. Set the value of `n_init` explicitly to suppress the warning\n",
      "The default value of `n_init` will change from 10 to 'auto' in 1.4. Set the value of `n_init` explicitly to suppress the warning\n",
      "The default value of `n_init` will change from 10 to 'auto' in 1.4. Set the value of `n_init` explicitly to suppress the warning\n",
      "The default value of `n_init` will change from 10 to 'auto' in 1.4. Set the value of `n_init` explicitly to suppress the warning\n"
     ]
    }
   ],
   "source": [
    "import shap\n",
    "import numpy as np\n",
    "all_files = os.listdir(train_data_path)\n",
    "train_file = [file for file in all_files if file.endswith('.csv')]\n",
    "for file in train_file:\n",
    "    file_name, _ = os.path.splitext(file)\n",
    "    file_path = os.path.join(train_data_path, file)\n",
    "    train = transform_train(file_path)\n",
    "    np.save(os.path.join(train_data_path, f\"{file_name}.npy\"), train)\n",
    "    train_summary = shap.kmeans(train, 50)\n",
    "    with open(os.path.join(train_data_path, f\"{file_name}.pkl\"), 'wb') as filehandler:\n",
    "        pickle.dump(train_summary, filehandler)"
   ]
  }
 ],
 "metadata": {
  "kernelspec": {
   "display_name": "Python (shaplime)",
   "language": "python",
   "name": "shaplime"
  },
  "language_info": {
   "codemirror_mode": {
    "name": "ipython",
    "version": 3
   },
   "file_extension": ".py",
   "mimetype": "text/x-python",
   "name": "python",
   "nbconvert_exporter": "python",
   "pygments_lexer": "ipython3",
   "version": "3.8.0"
  }
 },
 "nbformat": 4,
 "nbformat_minor": 5
}
