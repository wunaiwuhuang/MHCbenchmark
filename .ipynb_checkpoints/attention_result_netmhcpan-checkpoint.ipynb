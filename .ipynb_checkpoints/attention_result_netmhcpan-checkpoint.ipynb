{
 "cells": [
  {
   "cell_type": "code",
   "execution_count": 1,
   "id": "f2309fd9-0faf-44a5-917c-b18e2a9677fc",
   "metadata": {
    "execution": {
     "iopub.execute_input": "2024-10-21T08:17:35.189338Z",
     "iopub.status.busy": "2024-10-21T08:17:35.188585Z",
     "iopub.status.idle": "2024-10-21T08:17:41.357275Z",
     "shell.execute_reply": "2024-10-21T08:17:41.355786Z",
     "shell.execute_reply.started": "2024-10-21T08:17:35.189290Z"
    },
    "scrolled": true
   },
   "outputs": [
    {
     "name": "stderr",
     "output_type": "stream",
     "text": [
      "/data1/wuguojia/software/miniconda/envs/shaplime/lib/python3.8/site-packages/shap/utils/_clustering.py:35: NumbaDeprecationWarning: The 'nopython' keyword argument was not supplied to the 'numba.jit' decorator. The implicit default value for this argument is currently False, but it will be changed to True in Numba 0.59.0. See https://numba.readthedocs.io/en/stable/reference/deprecation.html#deprecation-of-object-mode-fall-back-behaviour-when-using-jit for details.\n",
      "  def _pt_shuffle_rec(i, indexes, index_mask, partition_tree, M, pos):\n",
      "/data1/wuguojia/software/miniconda/envs/shaplime/lib/python3.8/site-packages/shap/utils/_clustering.py:54: NumbaDeprecationWarning: The 'nopython' keyword argument was not supplied to the 'numba.jit' decorator. The implicit default value for this argument is currently False, but it will be changed to True in Numba 0.59.0. See https://numba.readthedocs.io/en/stable/reference/deprecation.html#deprecation-of-object-mode-fall-back-behaviour-when-using-jit for details.\n",
      "  def delta_minimization_order(all_masks, max_swap_size=100, num_passes=2):\n",
      "/data1/wuguojia/software/miniconda/envs/shaplime/lib/python3.8/site-packages/shap/utils/_clustering.py:63: NumbaDeprecationWarning: The 'nopython' keyword argument was not supplied to the 'numba.jit' decorator. The implicit default value for this argument is currently False, but it will be changed to True in Numba 0.59.0. See https://numba.readthedocs.io/en/stable/reference/deprecation.html#deprecation-of-object-mode-fall-back-behaviour-when-using-jit for details.\n",
      "  def _reverse_window(order, start, length):\n",
      "/data1/wuguojia/software/miniconda/envs/shaplime/lib/python3.8/site-packages/shap/utils/_clustering.py:69: NumbaDeprecationWarning: The 'nopython' keyword argument was not supplied to the 'numba.jit' decorator. The implicit default value for this argument is currently False, but it will be changed to True in Numba 0.59.0. See https://numba.readthedocs.io/en/stable/reference/deprecation.html#deprecation-of-object-mode-fall-back-behaviour-when-using-jit for details.\n",
      "  def _reverse_window_score_gain(masks, order, start, length):\n",
      "/data1/wuguojia/software/miniconda/envs/shaplime/lib/python3.8/site-packages/shap/utils/_clustering.py:77: NumbaDeprecationWarning: The 'nopython' keyword argument was not supplied to the 'numba.jit' decorator. The implicit default value for this argument is currently False, but it will be changed to True in Numba 0.59.0. See https://numba.readthedocs.io/en/stable/reference/deprecation.html#deprecation-of-object-mode-fall-back-behaviour-when-using-jit for details.\n",
      "  def _mask_delta_score(m1, m2):\n",
      "/data1/wuguojia/software/miniconda/envs/shaplime/lib/python3.8/site-packages/shap/links.py:5: NumbaDeprecationWarning: The 'nopython' keyword argument was not supplied to the 'numba.jit' decorator. The implicit default value for this argument is currently False, but it will be changed to True in Numba 0.59.0. See https://numba.readthedocs.io/en/stable/reference/deprecation.html#deprecation-of-object-mode-fall-back-behaviour-when-using-jit for details.\n",
      "  def identity(x):\n",
      "/data1/wuguojia/software/miniconda/envs/shaplime/lib/python3.8/site-packages/shap/links.py:10: NumbaDeprecationWarning: The 'nopython' keyword argument was not supplied to the 'numba.jit' decorator. The implicit default value for this argument is currently False, but it will be changed to True in Numba 0.59.0. See https://numba.readthedocs.io/en/stable/reference/deprecation.html#deprecation-of-object-mode-fall-back-behaviour-when-using-jit for details.\n",
      "  def _identity_inverse(x):\n",
      "/data1/wuguojia/software/miniconda/envs/shaplime/lib/python3.8/site-packages/shap/links.py:15: NumbaDeprecationWarning: The 'nopython' keyword argument was not supplied to the 'numba.jit' decorator. The implicit default value for this argument is currently False, but it will be changed to True in Numba 0.59.0. See https://numba.readthedocs.io/en/stable/reference/deprecation.html#deprecation-of-object-mode-fall-back-behaviour-when-using-jit for details.\n",
      "  def logit(x):\n",
      "/data1/wuguojia/software/miniconda/envs/shaplime/lib/python3.8/site-packages/shap/links.py:20: NumbaDeprecationWarning: The 'nopython' keyword argument was not supplied to the 'numba.jit' decorator. The implicit default value for this argument is currently False, but it will be changed to True in Numba 0.59.0. See https://numba.readthedocs.io/en/stable/reference/deprecation.html#deprecation-of-object-mode-fall-back-behaviour-when-using-jit for details.\n",
      "  def _logit_inverse(x):\n",
      "/data1/wuguojia/software/miniconda/envs/shaplime/lib/python3.8/site-packages/shap/utils/_masked_model.py:363: NumbaDeprecationWarning: The 'nopython' keyword argument was not supplied to the 'numba.jit' decorator. The implicit default value for this argument is currently False, but it will be changed to True in Numba 0.59.0. See https://numba.readthedocs.io/en/stable/reference/deprecation.html#deprecation-of-object-mode-fall-back-behaviour-when-using-jit for details.\n",
      "  def _build_fixed_single_output(averaged_outs, last_outs, outputs, batch_positions, varying_rows, num_varying_rows, link, linearizing_weights):\n",
      "/data1/wuguojia/software/miniconda/envs/shaplime/lib/python3.8/site-packages/shap/utils/_masked_model.py:385: NumbaDeprecationWarning: The 'nopython' keyword argument was not supplied to the 'numba.jit' decorator. The implicit default value for this argument is currently False, but it will be changed to True in Numba 0.59.0. See https://numba.readthedocs.io/en/stable/reference/deprecation.html#deprecation-of-object-mode-fall-back-behaviour-when-using-jit for details.\n",
      "  def _build_fixed_multi_output(averaged_outs, last_outs, outputs, batch_positions, varying_rows, num_varying_rows, link, linearizing_weights):\n",
      "/data1/wuguojia/software/miniconda/envs/shaplime/lib/python3.8/site-packages/shap/utils/_masked_model.py:428: NumbaDeprecationWarning: The 'nopython' keyword argument was not supplied to the 'numba.jit' decorator. The implicit default value for this argument is currently False, but it will be changed to True in Numba 0.59.0. See https://numba.readthedocs.io/en/stable/reference/deprecation.html#deprecation-of-object-mode-fall-back-behaviour-when-using-jit for details.\n",
      "  def _init_masks(cluster_matrix, M, indices_row_pos, indptr):\n",
      "/data1/wuguojia/software/miniconda/envs/shaplime/lib/python3.8/site-packages/shap/utils/_masked_model.py:439: NumbaDeprecationWarning: The 'nopython' keyword argument was not supplied to the 'numba.jit' decorator. The implicit default value for this argument is currently False, but it will be changed to True in Numba 0.59.0. See https://numba.readthedocs.io/en/stable/reference/deprecation.html#deprecation-of-object-mode-fall-back-behaviour-when-using-jit for details.\n",
      "  def _rec_fill_masks(cluster_matrix, indices_row_pos, indptr, indices, M, ind):\n",
      "/data1/wuguojia/software/miniconda/envs/shaplime/lib/python3.8/site-packages/shap/maskers/_tabular.py:186: NumbaDeprecationWarning: The 'nopython' keyword argument was not supplied to the 'numba.jit' decorator. The implicit default value for this argument is currently False, but it will be changed to True in Numba 0.59.0. See https://numba.readthedocs.io/en/stable/reference/deprecation.html#deprecation-of-object-mode-fall-back-behaviour-when-using-jit for details.\n",
      "  def _single_delta_mask(dind, masked_inputs, last_mask, data, x, noop_code):\n",
      "/data1/wuguojia/software/miniconda/envs/shaplime/lib/python3.8/site-packages/shap/maskers/_tabular.py:197: NumbaDeprecationWarning: The 'nopython' keyword argument was not supplied to the 'numba.jit' decorator. The implicit default value for this argument is currently False, but it will be changed to True in Numba 0.59.0. See https://numba.readthedocs.io/en/stable/reference/deprecation.html#deprecation-of-object-mode-fall-back-behaviour-when-using-jit for details.\n",
      "  def _delta_masking(masks, x, curr_delta_inds, varying_rows_out,\n",
      "/data1/wuguojia/software/miniconda/envs/shaplime/lib/python3.8/site-packages/shap/maskers/_image.py:175: NumbaDeprecationWarning: The 'nopython' keyword argument was not supplied to the 'numba.jit' decorator. The implicit default value for this argument is currently False, but it will be changed to True in Numba 0.59.0. See https://numba.readthedocs.io/en/stable/reference/deprecation.html#deprecation-of-object-mode-fall-back-behaviour-when-using-jit for details.\n",
      "  def _jit_build_partition_tree(xmin, xmax, ymin, ymax, zmin, zmax, total_ywidth, total_zwidth, M, clustering, q):\n",
      "/data1/wuguojia/software/miniconda/envs/shaplime/lib/python3.8/site-packages/tqdm/auto.py:21: TqdmWarning: IProgress not found. Please update jupyter and ipywidgets. See https://ipywidgets.readthedocs.io/en/stable/user_install.html\n",
      "  from .autonotebook import tqdm as notebook_tqdm\n",
      "/data1/wuguojia/software/miniconda/envs/shaplime/lib/python3.8/site-packages/shap/explainers/_partition.py:676: NumbaDeprecationWarning: The 'nopython' keyword argument was not supplied to the 'numba.jit' decorator. The implicit default value for this argument is currently False, but it will be changed to True in Numba 0.59.0. See https://numba.readthedocs.io/en/stable/reference/deprecation.html#deprecation-of-object-mode-fall-back-behaviour-when-using-jit for details.\n",
      "  def lower_credit(i, value, M, values, clustering):\n",
      "The 'nopython' keyword argument was not supplied to the 'numba.jit' decorator. The implicit default value for this argument is currently False, but it will be changed to True in Numba 0.59.0. See https://numba.readthedocs.io/en/stable/reference/deprecation.html#deprecation-of-object-mode-fall-back-behaviour-when-using-jit for details.\n",
      "The 'nopython' keyword argument was not supplied to the 'numba.jit' decorator. The implicit default value for this argument is currently False, but it will be changed to True in Numba 0.59.0. See https://numba.readthedocs.io/en/stable/reference/deprecation.html#deprecation-of-object-mode-fall-back-behaviour-when-using-jit for details.\n"
     ]
    }
   ],
   "source": [
    "import numpy as np\n",
    "import pandas as pd\n",
    "import matplotlib.pyplot as plt\n",
    "import matplotlib.gridspec as gridspec\n",
    "import seaborn as sns\n",
    "import pickle, importlib\n",
    "import argparse\n",
    "import subprocess\n",
    "import sys\n",
    "import lime\n",
    "import lime.lime_tabular\n",
    "import shap\n",
    "%matplotlib inline"
   ]
  },
  {
   "cell_type": "code",
   "execution_count": 2,
   "id": "53f3dca9-42da-4a5e-a840-fd2eea4bf0c1",
   "metadata": {
    "execution": {
     "iopub.execute_input": "2024-10-21T08:18:01.789835Z",
     "iopub.status.busy": "2024-10-21T08:18:01.788993Z",
     "iopub.status.idle": "2024-10-21T08:19:10.326815Z",
     "shell.execute_reply": "2024-10-21T08:19:10.325490Z",
     "shell.execute_reply.started": "2024-10-21T08:18:01.789777Z"
    }
   },
   "outputs": [
    {
     "name": "stdout",
     "output_type": "stream",
     "text": [
      "LIME Elution Ligand Rank done\n"
     ]
    }
   ],
   "source": [
    "# LIME Elution Ligand\n",
    "command = [\"python\", \"/home/wuguojia/biocode/mhc_benchmark/MHCXAI.py\",\n",
    "           \"--input_list\", \"/data1/wuguojia/data/mhc_benchmark/attentionbase/testdata_raw/HLA-A*01:01_10.csv\",\n",
    "           \"--index\", \"0\",\n",
    "           \"--predictor\",\"netmhcpan\",\n",
    "           \"--xai\",\"LIME\",\n",
    "           \"--mode\",\"EL_Rank\",\n",
    "           \"--trainf_path\",\"/data1/wuguojia/data/mhc_benchmark/attentionbase/traindata_raw/HLA-A*01:01_10.csv\",\n",
    "           \"--dest\",'/data1/wuguojia/data/mhc_benchmark/attentionbase/result/']\n",
    "\n",
    "result = subprocess.run(command,stdout=subprocess.PIPE, stderr=subprocess.PIPE, universal_newlines=True)\n",
    "print(\"LIME Elution Ligand Rank done\")"
   ]
  },
  {
   "cell_type": "code",
   "execution_count": 3,
   "id": "9371546f-c509-46a7-bdac-10681d9aa816",
   "metadata": {
    "execution": {
     "iopub.execute_input": "2024-10-18T13:26:36.547660Z",
     "iopub.status.busy": "2024-10-18T13:26:36.547095Z",
     "iopub.status.idle": "2024-10-18T13:30:08.538611Z",
     "shell.execute_reply": "2024-10-18T13:30:08.537511Z",
     "shell.execute_reply.started": "2024-10-18T13:26:36.547625Z"
    }
   },
   "outputs": [
    {
     "name": "stdout",
     "output_type": "stream",
     "text": [
      "LIME Elution Ligand Rank done\n"
     ]
    }
   ],
   "source": [
    "# SHAP Elution Ligand\n",
    "command = [\"python\", \"./MHCXAI.py\",\n",
    "           \"--input_list\", \"/data1/wuguojia/data/mhc_benchmark/attentionbase/testdata_raw/HLA-A*01:01_10.csv\",\n",
    "           \"--index\", \"0\",\n",
    "           \"--predictor\",\"netmhcpan\",\n",
    "           \"--xai\",\"SHAP\",\n",
    "           \"--mode\",\"EL_Rank\",\n",
    "           \"--trainf_path\",\"/data1/wuguojia/data/mhc_benchmark/attentionbase/traindata_raw/HLA-A*01:01_10.pkl\",\n",
    "           \"--dest\",'/data1/wuguojia/data/mhc_benchmark/attentionbase/result/']\n",
    "\n",
    "result = subprocess.run(command,stdout=subprocess.PIPE, stderr=subprocess.PIPE, universal_newlines=True)\n",
    "print(\"SHAP Elution Ligand Rank done\")"
   ]
  },
  {
   "cell_type": "code",
   "execution_count": 3,
   "id": "15055958-4b1d-4116-b424-4a4717113536",
   "metadata": {
    "execution": {
     "iopub.execute_input": "2024-10-21T08:20:37.466003Z",
     "iopub.status.busy": "2024-10-21T08:20:37.465276Z",
     "iopub.status.idle": "2024-10-21T08:20:38.404912Z",
     "shell.execute_reply": "2024-10-21T08:20:38.403779Z",
     "shell.execute_reply.started": "2024-10-21T08:20:37.465956Z"
    }
   },
   "outputs": [
    {
     "data": {
      "text/plain": [
       "Text(0.5, 1.0, 'SHAP netMHCpan EL')"
      ]
     },
     "execution_count": 3,
     "metadata": {},
     "output_type": "execute_result"
    },
    {
     "data": {
      "image/png": "[encoded data removed]",
      "text/plain": [
       "<Figure size 1000x93.75 with 2 Axes>"
      ]
     },
     "metadata": {},
     "output_type": "display_data"
    }
   ],
   "source": [
    "# Plot\n",
    "#1\n",
    "fig,ax = plt.subplots(1,2,figsize=(5*2,1.25*0.75))\n",
    "peptide = 'VSDSTTEITY'\n",
    "result_path = '/data1/wuguojia/data/mhc_benchmark/attentionbase/result/'\n",
    "values = np.load(f'{result_path}LIME_VSDSTTEITY_HLA-A*01:01_netmhcpan_EL_Rank.npy')[1:(1+len(peptide))]\n",
    "pos_importance_df = pd.DataFrame(values.reshape(-1, len(values)),columns = [aa_ for aa_ in peptide])\n",
    "b = sns.heatmap(pos_importance_df, annot=True, fmt=\".2f\", cmap='viridis', \n",
    "            annot_kws={'rotation': 90,'fontsize':14}, cbar=False,ax=ax[0])\n",
    "\n",
    "b.tick_params(left=False,bottom=False)\n",
    "b.set_yticklabels('')\n",
    "b.set_xticklabels(b.get_xticklabels(), size=13)\n",
    "b.set_title(\"LIME netMHCpan EL\")\n",
    "#2\n",
    "values = np.load(f'{result_path}SHAP_VSDSTTEITY_HLA-A*01:01_netmhcpan_EL_Rank.npy')\n",
    "pos_importance_df = pd.DataFrame(values.reshape(-1, len(values)),columns = [aa_ for aa_ in peptide])\n",
    "b = sns.heatmap(pos_importance_df, annot=True, fmt=\".2f\", cmap='viridis', \n",
    "            annot_kws={'rotation': 90,'fontsize':14}, cbar=False,ax=ax[1])\n",
    "\n",
    "b.tick_params(left=False,bottom=False)\n",
    "b.set_yticklabels('')\n",
    "b.set_xticklabels(b.get_xticklabels(), size=13)\n",
    "b.set_title(\"SHAP netMHCpan EL\")"
   ]
  },
  {
   "cell_type": "code",
   "execution_count": null,
   "id": "2c199de8-fd07-4a65-bb92-bccfbdf8356f",
   "metadata": {},
   "outputs": [],
   "source": []
  }
 ],
 "metadata": {
  "kernelspec": {
   "display_name": "Python (shaplime)",
   "language": "python",
   "name": "shaplime"
  },
  "language_info": {
   "codemirror_mode": {
    "name": "ipython",
    "version": 3
   },
   "file_extension": ".py",
   "mimetype": "text/x-python",
   "name": "python",
   "nbconvert_exporter": "python",
   "pygments_lexer": "ipython3",
   "version": "3.8.0"
  }
 },
 "nbformat": 4,
 "nbformat_minor": 5
}
