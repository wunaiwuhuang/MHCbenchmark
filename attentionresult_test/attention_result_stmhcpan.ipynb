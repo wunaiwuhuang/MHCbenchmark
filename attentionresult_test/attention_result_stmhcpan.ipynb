{
 "cells": [
  {
   "cell_type": "code",
   "execution_count": 1,
   "id": "5da9a266-6978-476f-b9ef-132114e2bc5d",
   "metadata": {
    "execution": {
     "iopub.execute_input": "2024-10-21T06:40:51.921221Z",
     "iopub.status.busy": "2024-10-21T06:40:51.920877Z",
     "iopub.status.idle": "2024-10-21T06:43:14.683846Z",
     "shell.execute_reply": "2024-10-21T06:43:14.682833Z",
     "shell.execute_reply.started": "2024-10-21T06:40:51.921186Z"
    }
   },
   "outputs": [
    {
     "name": "stderr",
     "output_type": "stream",
     "text": [
      "/data1/wuguojia/software/miniconda/envs/shaplime_stm/lib/python3.7/site-packages/tqdm/auto.py:21: TqdmWarning: IProgress not found. Please update jupyter and ipywidgets. See https://ipywidgets.readthedocs.io/en/stable/user_install.html\n",
      "  from .autonotebook import tqdm as notebook_tqdm\n"
     ]
    }
   ],
   "source": [
    "import numpy as np\n",
    "import pandas as pd\n",
    "import matplotlib.pyplot as plt\n",
    "import matplotlib.gridspec as gridspec\n",
    "import seaborn as sns\n",
    "import pickle, importlib\n",
    "import argparse\n",
    "import subprocess\n",
    "import sys\n",
    "import lime\n",
    "import lime.lime_tabular\n",
    "import shap\n",
    "%matplotlib inline"
   ]
  },
  {
   "cell_type": "code",
   "execution_count": 50,
   "id": "6ad3cfc5-93db-43c7-8984-260dfeb839df",
   "metadata": {
    "execution": {
     "iopub.execute_input": "2024-10-21T08:04:14.396991Z",
     "iopub.status.busy": "2024-10-21T08:04:14.396408Z",
     "iopub.status.idle": "2024-10-21T08:10:40.665576Z",
     "shell.execute_reply": "2024-10-21T08:10:40.664365Z",
     "shell.execute_reply.started": "2024-10-21T08:04:14.396953Z"
    }
   },
   "outputs": [
    {
     "name": "stdout",
     "output_type": "stream",
     "text": [
      "LIME done\n"
     ]
    }
   ],
   "source": [
    "#LIME\n",
    "command = [\n",
    "    \"python\", \"/home/wuguojia/biocode/mhc_benchmark/MHCXAI.py\",\n",
    "    \"--input_list\", \"/data1/wuguojia/data/mhc_benchmark/attentionbase/testdata_raw/HLA-A*01:01_10.csv\",\n",
    "    \"--index\", \"0\",\n",
    "    \"--predictor\", \"stmhcpan\",\n",
    "    \"--xai\", \"LIME\",\n",
    "    \"--mode\", \"None\",  # 根据需要设置\n",
    "    \"--trainf_path\", \"/data1/wuguojia/data/mhc_benchmark/attentionbase/traindata_raw/HLA-A*01:01_10.csv\",\n",
    "    \"--dest\", \"/data1/wuguojia/data/mhc_benchmark/attentionbase/result/\"\n",
    "]\n",
    "\n",
    "result = subprocess.run(command, stdout=subprocess.PIPE, stderr=subprocess.PIPE, universal_newlines=True)\n",
    "print(\"LIME done\")"
   ]
  },
  {
   "cell_type": "code",
   "execution_count": 3,
   "id": "d19899d8-4c2b-4eb3-83b5-0a1a677d8fb2",
   "metadata": {
    "execution": {
     "iopub.execute_input": "2024-10-21T06:48:00.524193Z",
     "iopub.status.busy": "2024-10-21T06:48:00.523692Z",
     "iopub.status.idle": "2024-10-21T06:53:45.486542Z",
     "shell.execute_reply": "2024-10-21T06:53:45.485497Z",
     "shell.execute_reply.started": "2024-10-21T06:48:00.524163Z"
    }
   },
   "outputs": [
    {
     "name": "stdout",
     "output_type": "stream",
     "text": [
      "SHAP done\n"
     ]
    }
   ],
   "source": [
    "#SHAP\n",
    "command = [\n",
    "    \"python\", \"/home/wuguojia/biocode/mhc_benchmark/MHCXAI.py\",\n",
    "    \"--input_list\", \"/data1/wuguojia/data/mhc_benchmark/attentionbase/testdata_raw/HLA-A*01:01_10.csv\",\n",
    "    \"--index\", \"0\",\n",
    "    \"--predictor\", \"stmhcpan\",\n",
    "    \"--xai\", \"SHAP\",\n",
    "    \"--mode\", \"None\",  # 根据需要设置\n",
    "    \"--trainf_path\", \"/data1/wuguojia/data/mhc_benchmark/attentionbase/traindata_raw/HLA-A*01:01_10.pkl\",\n",
    "    \"--dest\", \"/data1/wuguojia/data/mhc_benchmark/attentionbase/result/\"\n",
    "]\n",
    "\n",
    "result = subprocess.run(command, stdout=subprocess.PIPE, stderr=subprocess.PIPE, universal_newlines=True)\n",
    "print(\"SHAP done\")"
   ]
  },
  {
   "cell_type": "code",
   "execution_count": 51,
   "id": "0c8f97ba-0e4d-4edb-ae09-f899d985b85f",
   "metadata": {
    "execution": {
     "iopub.execute_input": "2024-10-21T08:12:22.981823Z",
     "iopub.status.busy": "2024-10-21T08:12:22.981231Z",
     "iopub.status.idle": "2024-10-21T08:12:23.770117Z",
     "shell.execute_reply": "2024-10-21T08:12:23.768967Z",
     "shell.execute_reply.started": "2024-10-21T08:12:22.981772Z"
    }
   },
   "outputs": [
    {
     "data": {
      "text/plain": [
       "Text(0.5, 1.0, 'SHAP STMHCpan')"
      ]
     },
     "execution_count": 51,
     "metadata": {},
     "output_type": "execute_result"
    },
    {
     "data": {
      "image/png": "[encoded data removed]",
      "text/plain": [
       "<Figure size 1000x93.75 with 2 Axes>"
      ]
     },
     "metadata": {},
     "output_type": "display_data"
    }
   ],
   "source": [
    "# Plot\n",
    "#1\n",
    "fig,ax = plt.subplots(1,2,figsize=(5*2,1.25*0.75))\n",
    "peptide = 'VSDSTTEITY'\n",
    "result_path = '/data1/wuguojia/data/mhc_benchmark/attentionbase/result/'\n",
    "values = np.load(f'{result_path}LIME_VSDSTTEITY_HLA-A*01:01_stmhcpan_None.npy')[1:(1+len(peptide))]\n",
    "pos_importance_df = pd.DataFrame(values.reshape(-1, len(values)),columns = [aa_ for aa_ in peptide])\n",
    "b = sns.heatmap(pos_importance_df, annot=True, fmt=\".2f\", cmap='viridis', \n",
    "            annot_kws={'rotation': 90,'fontsize':14}, cbar=False,ax=ax[0])\n",
    "\n",
    "b.tick_params(left=False,bottom=False)\n",
    "b.set_yticklabels('')\n",
    "b.set_xticklabels(b.get_xticklabels(), size=13)\n",
    "b.set_title(\"LIME STMHCpan\")\n",
    "#2\n",
    "values = np.load(f'{result_path}SHAP_VSDSTTEITY_HLA-A*01:01_stmhcpan_None.npy')\n",
    "pos_importance_df = pd.DataFrame(values.reshape(-1, len(values)),columns = [aa_ for aa_ in peptide])\n",
    "b = sns.heatmap(pos_importance_df, annot=True, fmt=\".2f\", cmap='viridis', \n",
    "            annot_kws={'rotation': 90,'fontsize':14}, cbar=False,ax=ax[1])\n",
    "\n",
    "b.tick_params(left=False,bottom=False)\n",
    "b.set_yticklabels('')\n",
    "b.set_xticklabels(b.get_xticklabels(), size=13)\n",
    "b.set_title(\"SHAP STMHCpan\")"
   ]
  },
  {
   "cell_type": "code",
   "execution_count": null,
   "id": "80b303d1-e9dc-4992-9ec8-0aca5f121ee7",
   "metadata": {},
   "outputs": [],
   "source": []
  }
 ],
 "metadata": {
  "kernelspec": {
   "display_name": "Python (shaplime_stm)",
   "language": "python",
   "name": "shaplime_stm"
  },
  "language_info": {
   "codemirror_mode": {
    "name": "ipython",
    "version": 3
   },
   "file_extension": ".py",
   "mimetype": "text/x-python",
   "name": "python",
   "nbconvert_exporter": "python",
   "pygments_lexer": "ipython3",
   "version": "3.7.12"
  }
 },
 "nbformat": 4,
 "nbformat_minor": 5
}
