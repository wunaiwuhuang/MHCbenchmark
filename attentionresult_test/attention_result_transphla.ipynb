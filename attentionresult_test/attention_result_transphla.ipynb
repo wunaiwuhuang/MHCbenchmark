{
 "cells": [
  {
   "cell_type": "code",
   "execution_count": 1,
   "id": "36966263-9adc-49a1-be44-fe2b66898d16",
   "metadata": {
    "collapsed": true,
    "execution": {
     "iopub.execute_input": "2024-10-21T08:22:43.081942Z",
     "iopub.status.busy": "2024-10-21T08:22:43.081475Z",
     "iopub.status.idle": "2024-10-21T08:23:05.750112Z",
     "shell.execute_reply": "2024-10-21T08:23:05.748773Z",
     "shell.execute_reply.started": "2024-10-21T08:22:43.081901Z"
    },
    "jupyter": {
     "outputs_hidden": true
    }
   },
   "outputs": [
    {
     "name": "stderr",
     "output_type": "stream",
     "text": [
      "/data1/wuguojia/software/miniconda/envs/shaplime/lib/python3.8/site-packages/shap/utils/_clustering.py:35: NumbaDeprecationWarning: The 'nopython' keyword argument was not supplied to the 'numba.jit' decorator. The implicit default value for this argument is currently False, but it will be changed to True in Numba 0.59.0. See https://numba.readthedocs.io/en/stable/reference/deprecation.html#deprecation-of-object-mode-fall-back-behaviour-when-using-jit for details.\n",
      "  def _pt_shuffle_rec(i, indexes, index_mask, partition_tree, M, pos):\n",
      "/data1/wuguojia/software/miniconda/envs/shaplime/lib/python3.8/site-packages/shap/utils/_clustering.py:54: NumbaDeprecationWarning: The 'nopython' keyword argument was not supplied to the 'numba.jit' decorator. The implicit default value for this argument is currently False, but it will be changed to True in Numba 0.59.0. See https://numba.readthedocs.io/en/stable/reference/deprecation.html#deprecation-of-object-mode-fall-back-behaviour-when-using-jit for details.\n",
      "  def delta_minimization_order(all_masks, max_swap_size=100, num_passes=2):\n",
      "/data1/wuguojia/software/miniconda/envs/shaplime/lib/python3.8/site-packages/shap/utils/_clustering.py:63: NumbaDeprecationWarning: The 'nopython' keyword argument was not supplied to the 'numba.jit' decorator. The implicit default value for this argument is currently False, but it will be changed to True in Numba 0.59.0. See https://numba.readthedocs.io/en/stable/reference/deprecation.html#deprecation-of-object-mode-fall-back-behaviour-when-using-jit for details.\n",
      "  def _reverse_window(order, start, length):\n",
      "/data1/wuguojia/software/miniconda/envs/shaplime/lib/python3.8/site-packages/shap/utils/_clustering.py:69: NumbaDeprecationWarning: The 'nopython' keyword argument was not supplied to the 'numba.jit' decorator. The implicit default value for this argument is currently False, but it will be changed to True in Numba 0.59.0. See https://numba.readthedocs.io/en/stable/reference/deprecation.html#deprecation-of-object-mode-fall-back-behaviour-when-using-jit for details.\n",
      "  def _reverse_window_score_gain(masks, order, start, length):\n",
      "/data1/wuguojia/software/miniconda/envs/shaplime/lib/python3.8/site-packages/shap/utils/_clustering.py:77: NumbaDeprecationWarning: The 'nopython' keyword argument was not supplied to the 'numba.jit' decorator. The implicit default value for this argument is currently False, but it will be changed to True in Numba 0.59.0. See https://numba.readthedocs.io/en/stable/reference/deprecation.html#deprecation-of-object-mode-fall-back-behaviour-when-using-jit for details.\n",
      "  def _mask_delta_score(m1, m2):\n",
      "/data1/wuguojia/software/miniconda/envs/shaplime/lib/python3.8/site-packages/shap/links.py:5: NumbaDeprecationWarning: The 'nopython' keyword argument was not supplied to the 'numba.jit' decorator. The implicit default value for this argument is currently False, but it will be changed to True in Numba 0.59.0. See https://numba.readthedocs.io/en/stable/reference/deprecation.html#deprecation-of-object-mode-fall-back-behaviour-when-using-jit for details.\n",
      "  def identity(x):\n",
      "/data1/wuguojia/software/miniconda/envs/shaplime/lib/python3.8/site-packages/shap/links.py:10: NumbaDeprecationWarning: The 'nopython' keyword argument was not supplied to the 'numba.jit' decorator. The implicit default value for this argument is currently False, but it will be changed to True in Numba 0.59.0. See https://numba.readthedocs.io/en/stable/reference/deprecation.html#deprecation-of-object-mode-fall-back-behaviour-when-using-jit for details.\n",
      "  def _identity_inverse(x):\n",
      "/data1/wuguojia/software/miniconda/envs/shaplime/lib/python3.8/site-packages/shap/links.py:15: NumbaDeprecationWarning: The 'nopython' keyword argument was not supplied to the 'numba.jit' decorator. The implicit default value for this argument is currently False, but it will be changed to True in Numba 0.59.0. See https://numba.readthedocs.io/en/stable/reference/deprecation.html#deprecation-of-object-mode-fall-back-behaviour-when-using-jit for details.\n",
      "  def logit(x):\n",
      "/data1/wuguojia/software/miniconda/envs/shaplime/lib/python3.8/site-packages/shap/links.py:20: NumbaDeprecationWarning: The 'nopython' keyword argument was not supplied to the 'numba.jit' decorator. The implicit default value for this argument is currently False, but it will be changed to True in Numba 0.59.0. See https://numba.readthedocs.io/en/stable/reference/deprecation.html#deprecation-of-object-mode-fall-back-behaviour-when-using-jit for details.\n",
      "  def _logit_inverse(x):\n",
      "/data1/wuguojia/software/miniconda/envs/shaplime/lib/python3.8/site-packages/shap/utils/_masked_model.py:363: NumbaDeprecationWarning: The 'nopython' keyword argument was not supplied to the 'numba.jit' decorator. The implicit default value for this argument is currently False, but it will be changed to True in Numba 0.59.0. See https://numba.readthedocs.io/en/stable/reference/deprecation.html#deprecation-of-object-mode-fall-back-behaviour-when-using-jit for details.\n",
      "  def _build_fixed_single_output(averaged_outs, last_outs, outputs, batch_positions, varying_rows, num_varying_rows, link, linearizing_weights):\n",
      "/data1/wuguojia/software/miniconda/envs/shaplime/lib/python3.8/site-packages/shap/utils/_masked_model.py:385: NumbaDeprecationWarning: The 'nopython' keyword argument was not supplied to the 'numba.jit' decorator. The implicit default value for this argument is currently False, but it will be changed to True in Numba 0.59.0. See https://numba.readthedocs.io/en/stable/reference/deprecation.html#deprecation-of-object-mode-fall-back-behaviour-when-using-jit for details.\n",
      "  def _build_fixed_multi_output(averaged_outs, last_outs, outputs, batch_positions, varying_rows, num_varying_rows, link, linearizing_weights):\n",
      "/data1/wuguojia/software/miniconda/envs/shaplime/lib/python3.8/site-packages/shap/utils/_masked_model.py:428: NumbaDeprecationWarning: The 'nopython' keyword argument was not supplied to the 'numba.jit' decorator. The implicit default value for this argument is currently False, but it will be changed to True in Numba 0.59.0. See https://numba.readthedocs.io/en/stable/reference/deprecation.html#deprecation-of-object-mode-fall-back-behaviour-when-using-jit for details.\n",
      "  def _init_masks(cluster_matrix, M, indices_row_pos, indptr):\n",
      "/data1/wuguojia/software/miniconda/envs/shaplime/lib/python3.8/site-packages/shap/utils/_masked_model.py:439: NumbaDeprecationWarning: The 'nopython' keyword argument was not supplied to the 'numba.jit' decorator. The implicit default value for this argument is currently False, but it will be changed to True in Numba 0.59.0. See https://numba.readthedocs.io/en/stable/reference/deprecation.html#deprecation-of-object-mode-fall-back-behaviour-when-using-jit for details.\n",
      "  def _rec_fill_masks(cluster_matrix, indices_row_pos, indptr, indices, M, ind):\n",
      "/data1/wuguojia/software/miniconda/envs/shaplime/lib/python3.8/site-packages/shap/maskers/_tabular.py:186: NumbaDeprecationWarning: The 'nopython' keyword argument was not supplied to the 'numba.jit' decorator. The implicit default value for this argument is currently False, but it will be changed to True in Numba 0.59.0. See https://numba.readthedocs.io/en/stable/reference/deprecation.html#deprecation-of-object-mode-fall-back-behaviour-when-using-jit for details.\n",
      "  def _single_delta_mask(dind, masked_inputs, last_mask, data, x, noop_code):\n",
      "/data1/wuguojia/software/miniconda/envs/shaplime/lib/python3.8/site-packages/shap/maskers/_tabular.py:197: NumbaDeprecationWarning: The 'nopython' keyword argument was not supplied to the 'numba.jit' decorator. The implicit default value for this argument is currently False, but it will be changed to True in Numba 0.59.0. See https://numba.readthedocs.io/en/stable/reference/deprecation.html#deprecation-of-object-mode-fall-back-behaviour-when-using-jit for details.\n",
      "  def _delta_masking(masks, x, curr_delta_inds, varying_rows_out,\n",
      "/data1/wuguojia/software/miniconda/envs/shaplime/lib/python3.8/site-packages/shap/maskers/_image.py:175: NumbaDeprecationWarning: The 'nopython' keyword argument was not supplied to the 'numba.jit' decorator. The implicit default value for this argument is currently False, but it will be changed to True in Numba 0.59.0. See https://numba.readthedocs.io/en/stable/reference/deprecation.html#deprecation-of-object-mode-fall-back-behaviour-when-using-jit for details.\n",
      "  def _jit_build_partition_tree(xmin, xmax, ymin, ymax, zmin, zmax, total_ywidth, total_zwidth, M, clustering, q):\n",
      "/data1/wuguojia/software/miniconda/envs/shaplime/lib/python3.8/site-packages/tqdm/auto.py:21: TqdmWarning: IProgress not found. Please update jupyter and ipywidgets. See https://ipywidgets.readthedocs.io/en/stable/user_install.html\n",
      "  from .autonotebook import tqdm as notebook_tqdm\n",
      "/data1/wuguojia/software/miniconda/envs/shaplime/lib/python3.8/site-packages/shap/explainers/_partition.py:676: NumbaDeprecationWarning: The 'nopython' keyword argument was not supplied to the 'numba.jit' decorator. The implicit default value for this argument is currently False, but it will be changed to True in Numba 0.59.0. See https://numba.readthedocs.io/en/stable/reference/deprecation.html#deprecation-of-object-mode-fall-back-behaviour-when-using-jit for details.\n",
      "  def lower_credit(i, value, M, values, clustering):\n",
      "The 'nopython' keyword argument was not supplied to the 'numba.jit' decorator. The implicit default value for this argument is currently False, but it will be changed to True in Numba 0.59.0. See https://numba.readthedocs.io/en/stable/reference/deprecation.html#deprecation-of-object-mode-fall-back-behaviour-when-using-jit for details.\n",
      "The 'nopython' keyword argument was not supplied to the 'numba.jit' decorator. The implicit default value for this argument is currently False, but it will be changed to True in Numba 0.59.0. See https://numba.readthedocs.io/en/stable/reference/deprecation.html#deprecation-of-object-mode-fall-back-behaviour-when-using-jit for details.\n"
     ]
    }
   ],
   "source": [
    "#you should run this code in path:/data1/wuguojia/data/mhc_benchmark/tools/TransPHLA-AOMP/TransPHLA-AOMP\n",
    "#./MHCXAI.py is a copy of /home/wuguojia/biocode/mhc_benchmark/MHCXAI.py\n",
    "import numpy as np\n",
    "import pandas as pd\n",
    "import matplotlib.pyplot as plt\n",
    "import matplotlib.gridspec as gridspec\n",
    "import seaborn as sns\n",
    "import pickle, importlib\n",
    "import argparse\n",
    "import subprocess\n",
    "import sys\n",
    "import lime\n",
    "import lime.lime_tabular\n",
    "import shap\n",
    "%matplotlib inline"
   ]
  },
  {
   "cell_type": "code",
   "execution_count": 2,
   "id": "abe44605-97b4-4850-8707-cd29306a8b60",
   "metadata": {
    "execution": {
     "iopub.execute_input": "2024-10-21T08:23:12.946144Z",
     "iopub.status.busy": "2024-10-21T08:23:12.945533Z",
     "iopub.status.idle": "2024-10-21T08:24:31.108570Z",
     "shell.execute_reply": "2024-10-21T08:24:31.107420Z",
     "shell.execute_reply.started": "2024-10-21T08:23:12.946103Z"
    },
    "scrolled": true
   },
   "outputs": [
    {
     "name": "stdout",
     "output_type": "stream",
     "text": [
      "LIME done\n"
     ]
    }
   ],
   "source": [
    "#LIME\n",
    "command = [\n",
    "    \"python\", \"/home/wuguojia/biocode/mhc_benchmark/MHCXAI.py\",\n",
    "    \"--input_list\", \"/data1/wuguojia/data/mhc_benchmark/attentionbase/testdata_raw/HLA-A*01:01_10.csv\",\n",
    "    \"--index\", \"0\",\n",
    "    \"--predictor\", \"transphla\",\n",
    "    \"--xai\", \"LIME\",\n",
    "    \"--mode\", \"None\",  # 根据需要设置\n",
    "    \"--trainf_path\", \"/data1/wuguojia/data/mhc_benchmark/attentionbase/traindata_raw/HLA-A*01:01_10.csv\",\n",
    "    \"--dest\", \"/data1/wuguojia/data/mhc_benchmark/attentionbase/result/\"\n",
    "]\n",
    "\n",
    "result = subprocess.run(command, stdout=subprocess.PIPE, stderr=subprocess.PIPE, universal_newlines=True)\n",
    "print(\"LIME done\")"
   ]
  },
  {
   "cell_type": "code",
   "execution_count": 49,
   "id": "0f377428-a336-4a20-9eb4-7c0b2c7d1f49",
   "metadata": {
    "execution": {
     "iopub.execute_input": "2024-10-19T08:04:19.074210Z",
     "iopub.status.busy": "2024-10-19T08:04:19.073705Z",
     "iopub.status.idle": "2024-10-19T08:05:48.255649Z",
     "shell.execute_reply": "2024-10-19T08:05:48.250899Z",
     "shell.execute_reply.started": "2024-10-19T08:04:19.074166Z"
    }
   },
   "outputs": [
    {
     "name": "stdout",
     "output_type": "stream",
     "text": [
      "SHAP done\n"
     ]
    }
   ],
   "source": [
    "#SHAP\n",
    "command = [\n",
    "    \"python\", \"/home/wuguojia/biocode/mhc_benchmark/MHCXAI.py\",\n",
    "    \"--input_list\", \"/data1/wuguojia/data/mhc_benchmark/attentionbase/testdata_raw/HLA-A*01:01_10.csv\",\n",
    "    \"--index\", \"0\",\n",
    "    \"--predictor\", \"transphla\",\n",
    "    \"--xai\", \"SHAP\",\n",
    "    \"--mode\", \"None\",  # 根据需要设置\n",
    "    \"--trainf_path\", \"/data1/wuguojia/data/mhc_benchmark/attentionbase/traindata_raw/HLA-A*01:01_10.pkl\",\n",
    "    \"--dest\", \"/data1/wuguojia/data/mhc_benchmark/attentionbase/result/\"\n",
    "]\n",
    "\n",
    "result = subprocess.run(command, stdout=subprocess.PIPE, stderr=subprocess.PIPE, universal_newlines=True)\n",
    "print(\"SHAP done\")"
   ]
  },
  {
   "cell_type": "code",
   "execution_count": 3,
   "id": "cc93a602-03be-4711-9581-b5a211c4c3ff",
   "metadata": {
    "execution": {
     "iopub.execute_input": "2024-10-21T08:24:48.419066Z",
     "iopub.status.busy": "2024-10-21T08:24:48.418314Z",
     "iopub.status.idle": "2024-10-21T08:24:49.490632Z",
     "shell.execute_reply": "2024-10-21T08:24:49.488621Z",
     "shell.execute_reply.started": "2024-10-21T08:24:48.419022Z"
    }
   },
   "outputs": [
    {
     "data": {
      "text/plain": [
       "Text(0.5, 1.0, 'SHAP TransPHLA')"
      ]
     },
     "execution_count": 3,
     "metadata": {},
     "output_type": "execute_result"
    },
    {
     "data": {
      "image/png": "[encoded data removed]",
      "text/plain": [
       "<Figure size 1000x93.75 with 2 Axes>"
      ]
     },
     "metadata": {},
     "output_type": "display_data"
    }
   ],
   "source": [
    "# Plot\n",
    "#1\n",
    "fig,ax = plt.subplots(1,2,figsize=(5*2,1.25*0.75))\n",
    "peptide = 'VSDSTTEITY'\n",
    "result_path = '/data1/wuguojia/data/mhc_benchmark/attentionbase/result/'\n",
    "values = np.load(f'{result_path}LIME_VSDSTTEITY_HLA-A*01:01_transphla_None.npy')[1:(1+len(peptide))]\n",
    "pos_importance_df = pd.DataFrame(values.reshape(-1, len(values)),columns = [aa_ for aa_ in peptide])\n",
    "b = sns.heatmap(pos_importance_df, annot=True, fmt=\".2f\", cmap='viridis', \n",
    "            annot_kws={'rotation': 90,'fontsize':14}, cbar=False,ax=ax[0])\n",
    "\n",
    "b.tick_params(left=False,bottom=False)\n",
    "b.set_yticklabels('')\n",
    "b.set_xticklabels(b.get_xticklabels(), size=13)\n",
    "b.set_title(\"LIME TransPHLA\")\n",
    "#2\n",
    "values = np.load(f'{result_path}SHAP_VSDSTTEITY_HLA-A*01:01_transphla_None.npy')\n",
    "pos_importance_df = pd.DataFrame(values.reshape(-1, len(values)),columns = [aa_ for aa_ in peptide])\n",
    "b = sns.heatmap(pos_importance_df, annot=True, fmt=\".2f\", cmap='viridis', \n",
    "            annot_kws={'rotation': 90,'fontsize':14}, cbar=False,ax=ax[1])\n",
    "\n",
    "b.tick_params(left=False,bottom=False)\n",
    "b.set_yticklabels('')\n",
    "b.set_xticklabels(b.get_xticklabels(), size=13)\n",
    "b.set_title(\"SHAP TransPHLA\")"
   ]
  },
  {
   "cell_type": "code",
   "execution_count": null,
   "id": "d95843ff-2bcd-4686-ac0d-930adcc523d9",
   "metadata": {},
   "outputs": [],
   "source": []
  }
 ],
 "metadata": {
  "kernelspec": {
   "display_name": "Python (shaplime)",
   "language": "python",
   "name": "shaplime"
  },
  "language_info": {
   "codemirror_mode": {
    "name": "ipython",
    "version": 3
   },
   "file_extension": ".py",
   "mimetype": "text/x-python",
   "name": "python",
   "nbconvert_exporter": "python",
   "pygments_lexer": "ipython3",
   "version": "3.8.0"
  }
 },
 "nbformat": 4,
 "nbformat_minor": 5
}
